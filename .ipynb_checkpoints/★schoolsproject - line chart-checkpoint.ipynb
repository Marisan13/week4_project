{
 "cells": [
  {
   "cell_type": "markdown",
   "metadata": {
    "id": "TuwSdWZlgveP"
   },
   "source": [
    "# SQL Project\n",
    "You were hired by Ironhack to perform an Analytics Consulting Project entitled: competitive landscape.\n",
    "\n",
    "Your mission is to create and populate an appropriate database with many coding schools that are our competition, as well as design an suitable queries that answer business questions of interest (to be defined by you)\n"
   ]
  },
  {
   "cell_type": "markdown",
   "metadata": {
    "id": "hXDGm8_RgG-K"
   },
   "source": [
    "**Suggested Steps in the Project:**\n",
    "\n",
    "\n",
    "*   Read this notebook and understand each function. Comment the code appropriately\n",
    "\n",
    "*   Populate the list of schools with a wider variety of schools (how are you going to get the school ID?)\n",
    "\n",
    "* Take a look at the obtained dataframes. What dimensions do you have? what keys do you have? how could the different dataframes be connected?\n",
    "\n",
    "* Go back to the drawing board and try to create an entity relationship diagram for tables available\n",
    "\n",
    "* Once you have the schemas you want, you will need to:\n",
    "  - create the suitable SQL queries to create the tables and populate them\n",
    "  - run these queries using the appropriate Python connectors\n",
    "  \n",
    "* Bonus: How will this datamodel be updated in the future? Please write auxiliary functions that test the database for data quality issues. For example: how could you make sure you only include the most recent comments when you re-run the script?\n",
    "\n",
    "\n",
    "# Suggested Deliverables\n",
    "\n",
    "* 5 minute presentation of data model created, decision process and business analysis proposed\n",
    "\n",
    "* exported .sql file with the final schema\n",
    "\n",
    "* Supporting python files used to generate all logic\n",
    "\n",
    "* High level documentation explaining tables designed and focusing on update methods\n",
    "\n",
    "Crucial hint: check out the following tutorial:\n",
    "https://www.dataquest.io/blog/sql-insert-tutorial/\n"
   ]
  },
  {
   "cell_type": "markdown",
   "metadata": {},
   "source": [
    "**Bar Chart**"
   ]
  },
  {
   "cell_type": "code",
   "execution_count": 2,
   "metadata": {},
   "outputs": [
    {
     "name": "stdout",
     "output_type": "stream",
     "text": [
      "········\n"
     ]
    }
   ],
   "source": [
    "import mysql.connector\n",
    "from getpass import getpass\n",
    "import pymysql\n",
    "import pandas as pd\n",
    "password = getpass()\n",
    "connection = pymysql.connect(\n",
    "    host='localhost',  # Replace with your MySQL host\n",
    "    user='root',  # Replace with your MySQL username\n",
    "    password= password,  # Replace with your MySQL password\n",
    "    db='project_school',  # Replace with the name of your database\n",
    "    charset='utf8mb4',\n",
    "    cursorclass=pymysql.cursors.DictCursor\n",
    ")\n",
    "try:\n",
    "    with connection.cursor() as cursor:\n",
    "        # Define your SQL query\n",
    "        sql_query = \"\"\"\n",
    "select school,\n",
    "round(avg(overallScore),2) as overallScore,\n",
    "round(avg(overall),2) as overall,\n",
    "round(avg(curriculum),2) as curriculum,\n",
    "round(avg(jobSupport),2) as jobSupport,\n",
    "count(*) as count\n",
    "from project_school.comments\n",
    "group by school\n",
    "order by school asc;;\n",
    "        \"\"\"\n",
    "        # Execute the SQL query\n",
    "        cursor.execute(sql_query)\n",
    "        # Fetch all the results\n",
    "        results = cursor.fetchall()\n",
    "        # Print the results\n",
    "        DataAverage = pd.DataFrame(results)\n",
    "finally:\n",
    "    # Close the connection\n",
    "    connection.close()"
   ]
  },
  {
   "cell_type": "code",
   "execution_count": 3,
   "metadata": {},
   "outputs": [
    {
     "data": {
      "text/html": [
       "<div>\n",
       "<style scoped>\n",
       "    .dataframe tbody tr th:only-of-type {\n",
       "        vertical-align: middle;\n",
       "    }\n",
       "\n",
       "    .dataframe tbody tr th {\n",
       "        vertical-align: top;\n",
       "    }\n",
       "\n",
       "    .dataframe thead th {\n",
       "        text-align: right;\n",
       "    }\n",
       "</style>\n",
       "<table border=\"1\" class=\"dataframe\">\n",
       "  <thead>\n",
       "    <tr style=\"text-align: right;\">\n",
       "      <th></th>\n",
       "      <th>school</th>\n",
       "      <th>overallScore</th>\n",
       "      <th>overall</th>\n",
       "      <th>curriculum</th>\n",
       "      <th>jobSupport</th>\n",
       "      <th>count</th>\n",
       "    </tr>\n",
       "  </thead>\n",
       "  <tbody>\n",
       "    <tr>\n",
       "      <th>0</th>\n",
       "      <td>app-academy</td>\n",
       "      <td>4.60</td>\n",
       "      <td>4.70</td>\n",
       "      <td>4.58</td>\n",
       "      <td>4.51</td>\n",
       "      <td>1011</td>\n",
       "    </tr>\n",
       "    <tr>\n",
       "      <th>1</th>\n",
       "      <td>ironhack</td>\n",
       "      <td>4.74</td>\n",
       "      <td>4.80</td>\n",
       "      <td>4.72</td>\n",
       "      <td>4.69</td>\n",
       "      <td>1179</td>\n",
       "    </tr>\n",
       "    <tr>\n",
       "      <th>2</th>\n",
       "      <td>le-wagon</td>\n",
       "      <td>4.92</td>\n",
       "      <td>4.98</td>\n",
       "      <td>4.95</td>\n",
       "      <td>4.81</td>\n",
       "      <td>2449</td>\n",
       "    </tr>\n",
       "    <tr>\n",
       "      <th>3</th>\n",
       "      <td>shecodes</td>\n",
       "      <td>4.87</td>\n",
       "      <td>4.97</td>\n",
       "      <td>4.93</td>\n",
       "      <td>4.71</td>\n",
       "      <td>1034</td>\n",
       "    </tr>\n",
       "    <tr>\n",
       "      <th>4</th>\n",
       "      <td>springboard</td>\n",
       "      <td>4.59</td>\n",
       "      <td>4.68</td>\n",
       "      <td>4.57</td>\n",
       "      <td>4.50</td>\n",
       "      <td>1351</td>\n",
       "    </tr>\n",
       "    <tr>\n",
       "      <th>5</th>\n",
       "      <td>udacity</td>\n",
       "      <td>4.45</td>\n",
       "      <td>4.62</td>\n",
       "      <td>4.59</td>\n",
       "      <td>4.11</td>\n",
       "      <td>997</td>\n",
       "    </tr>\n",
       "  </tbody>\n",
       "</table>\n",
       "</div>"
      ],
      "text/plain": [
       "        school  overallScore  overall  curriculum  jobSupport  count\n",
       "0  app-academy          4.60     4.70        4.58        4.51   1011\n",
       "1     ironhack          4.74     4.80        4.72        4.69   1179\n",
       "2     le-wagon          4.92     4.98        4.95        4.81   2449\n",
       "3     shecodes          4.87     4.97        4.93        4.71   1034\n",
       "4  springboard          4.59     4.68        4.57        4.50   1351\n",
       "5      udacity          4.45     4.62        4.59        4.11    997"
      ]
     },
     "execution_count": 3,
     "metadata": {},
     "output_type": "execute_result"
    }
   ],
   "source": [
    "DataAverage"
   ]
  },
  {
   "cell_type": "code",
   "execution_count": 8,
   "metadata": {},
   "outputs": [],
   "source": [
    "DataAverage_updated = DataAverage.drop(\"count\", axis=\"columns\")"
   ]
  },
  {
   "cell_type": "code",
   "execution_count": 10,
   "metadata": {},
   "outputs": [
    {
     "data": {
      "image/png": "[encoded data removed]",
      "text/plain": [
       "<Figure size 1000x600 with 1 Axes>"
      ]
     },
     "metadata": {},
     "output_type": "display_data"
    }
   ],
   "source": [
    "# Comparison by school\n",
    "\n",
    "import matplotlib.pyplot as plt\n",
    "\n",
    "# Create a grouped bar chart\n",
    "ax = DataAverage_updated.plot(kind='bar', figsize=(10, 6))\n",
    "plt.title('Mean Metrics by School')\n",
    "plt.xlabel('School')\n",
    "plt.ylabel('Mean Value')\n",
    "plt.xticks(rotation=45)\n",
    "plt.legend(title='Metrics')\n",
    "\n",
    "# Set the y-axis limits to display the range from 4 to 6\n",
    "ax.set_ylim(4, 5)\n",
    "\n",
    "plt.show()"
   ]
  },
  {
   "cell_type": "markdown",
   "metadata": {},
   "source": [
    "**Line Chart**"
   ]
  },
  {
   "cell_type": "code",
   "execution_count": 1,
   "metadata": {},
   "outputs": [
    {
     "name": "stdout",
     "output_type": "stream",
     "text": [
      "········\n"
     ]
    }
   ],
   "source": [
    "import mysql.connector\n",
    "from getpass import getpass\n",
    "import pymysql\n",
    "import pandas as pd\n",
    "password = getpass()\n",
    "connection = pymysql.connect(\n",
    "    host='localhost',  # Replace with your MySQL host\n",
    "    user='root',  # Replace with your MySQL username\n",
    "    password= password,  # Replace with your MySQL password\n",
    "    db='project_school',  # Replace with the name of your database\n",
    "    charset='utf8mb4',\n",
    "    cursorclass=pymysql.cursors.DictCursor\n",
    ")\n",
    "try:\n",
    "    with connection.cursor() as cursor:\n",
    "        # Define your SQL query\n",
    "        sql_query = \"\"\"\n",
    "SELECT project_school.comments.school, graduatingYear, ROUND(AVG(curriculum),2) AS avg_curriculum, ROUND(AVG(jobSupport),2) AS avg_jobsupport, COUNT(project_school.comments.school) AS number_students\n",
    "FROM project_school.comments WHERE project_school.comments.school = \"ironhack\"\n",
    "GROUP BY project_school.comments.school, graduatingYear\n",
    "ORDER BY graduatingYear ASC;\n",
    "        \"\"\"\n",
    "        # Execute the SQL query\n",
    "        cursor.execute(sql_query)\n",
    "        # Fetch all the results\n",
    "        results = cursor.fetchall()\n",
    "        # Print the results\n",
    "        DataCurrJob = pd.DataFrame(results)\n",
    "finally:\n",
    "    # Close the connection\n",
    "    connection.close()"
   ]
  },
  {
   "cell_type": "code",
   "execution_count": 2,
   "metadata": {},
   "outputs": [
    {
     "data": {
      "text/html": [
       "<div>\n",
       "<style scoped>\n",
       "    .dataframe tbody tr th:only-of-type {\n",
       "        vertical-align: middle;\n",
       "    }\n",
       "\n",
       "    .dataframe tbody tr th {\n",
       "        vertical-align: top;\n",
       "    }\n",
       "\n",
       "    .dataframe thead th {\n",
       "        text-align: right;\n",
       "    }\n",
       "</style>\n",
       "<table border=\"1\" class=\"dataframe\">\n",
       "  <thead>\n",
       "    <tr style=\"text-align: right;\">\n",
       "      <th></th>\n",
       "      <th>school</th>\n",
       "      <th>graduatingYear</th>\n",
       "      <th>avg_curriculum</th>\n",
       "      <th>avg_jobsupport</th>\n",
       "      <th>number_students</th>\n",
       "    </tr>\n",
       "  </thead>\n",
       "  <tbody>\n",
       "    <tr>\n",
       "      <th>0</th>\n",
       "      <td>ironhack</td>\n",
       "      <td>2011.0</td>\n",
       "      <td>4.00</td>\n",
       "      <td>5.00</td>\n",
       "      <td>1</td>\n",
       "    </tr>\n",
       "    <tr>\n",
       "      <th>1</th>\n",
       "      <td>ironhack</td>\n",
       "      <td>2014.0</td>\n",
       "      <td>4.75</td>\n",
       "      <td>4.62</td>\n",
       "      <td>8</td>\n",
       "    </tr>\n",
       "    <tr>\n",
       "      <th>2</th>\n",
       "      <td>ironhack</td>\n",
       "      <td>2015.0</td>\n",
       "      <td>4.71</td>\n",
       "      <td>4.88</td>\n",
       "      <td>17</td>\n",
       "    </tr>\n",
       "    <tr>\n",
       "      <th>3</th>\n",
       "      <td>ironhack</td>\n",
       "      <td>2016.0</td>\n",
       "      <td>4.89</td>\n",
       "      <td>4.89</td>\n",
       "      <td>56</td>\n",
       "    </tr>\n",
       "    <tr>\n",
       "      <th>4</th>\n",
       "      <td>ironhack</td>\n",
       "      <td>2017.0</td>\n",
       "      <td>4.82</td>\n",
       "      <td>4.91</td>\n",
       "      <td>179</td>\n",
       "    </tr>\n",
       "    <tr>\n",
       "      <th>5</th>\n",
       "      <td>ironhack</td>\n",
       "      <td>2018.0</td>\n",
       "      <td>4.82</td>\n",
       "      <td>4.90</td>\n",
       "      <td>288</td>\n",
       "    </tr>\n",
       "    <tr>\n",
       "      <th>6</th>\n",
       "      <td>ironhack</td>\n",
       "      <td>2019.0</td>\n",
       "      <td>4.70</td>\n",
       "      <td>4.79</td>\n",
       "      <td>211</td>\n",
       "    </tr>\n",
       "    <tr>\n",
       "      <th>7</th>\n",
       "      <td>ironhack</td>\n",
       "      <td>2020.0</td>\n",
       "      <td>4.77</td>\n",
       "      <td>4.57</td>\n",
       "      <td>183</td>\n",
       "    </tr>\n",
       "    <tr>\n",
       "      <th>8</th>\n",
       "      <td>ironhack</td>\n",
       "      <td>2021.0</td>\n",
       "      <td>4.58</td>\n",
       "      <td>4.34</td>\n",
       "      <td>83</td>\n",
       "    </tr>\n",
       "    <tr>\n",
       "      <th>9</th>\n",
       "      <td>ironhack</td>\n",
       "      <td>2022.0</td>\n",
       "      <td>4.48</td>\n",
       "      <td>4.22</td>\n",
       "      <td>109</td>\n",
       "    </tr>\n",
       "    <tr>\n",
       "      <th>10</th>\n",
       "      <td>ironhack</td>\n",
       "      <td>2023.0</td>\n",
       "      <td>4.25</td>\n",
       "      <td>3.98</td>\n",
       "      <td>44</td>\n",
       "    </tr>\n",
       "  </tbody>\n",
       "</table>\n",
       "</div>"
      ],
      "text/plain": [
       "      school  graduatingYear  avg_curriculum  avg_jobsupport  number_students\n",
       "0   ironhack          2011.0            4.00            5.00                1\n",
       "1   ironhack          2014.0            4.75            4.62                8\n",
       "2   ironhack          2015.0            4.71            4.88               17\n",
       "3   ironhack          2016.0            4.89            4.89               56\n",
       "4   ironhack          2017.0            4.82            4.91              179\n",
       "5   ironhack          2018.0            4.82            4.90              288\n",
       "6   ironhack          2019.0            4.70            4.79              211\n",
       "7   ironhack          2020.0            4.77            4.57              183\n",
       "8   ironhack          2021.0            4.58            4.34               83\n",
       "9   ironhack          2022.0            4.48            4.22              109\n",
       "10  ironhack          2023.0            4.25            3.98               44"
      ]
     },
     "execution_count": 2,
     "metadata": {},
     "output_type": "execute_result"
    }
   ],
   "source": [
    "DataCurrJob"
   ]
  },
  {
   "cell_type": "code",
   "execution_count": 3,
   "metadata": {},
   "outputs": [
    {
     "name": "stdout",
     "output_type": "stream",
     "text": [
      "      school  graduatingYear  avg_curriculum  avg_jobsupport  number_students\n",
      "0   ironhack            2011            4.00            5.00                1\n",
      "1   ironhack            2014            4.75            4.62                8\n",
      "2   ironhack            2015            4.71            4.88               17\n",
      "3   ironhack            2016            4.89            4.89               56\n",
      "4   ironhack            2017            4.82            4.91              179\n",
      "5   ironhack            2018            4.82            4.90              288\n",
      "6   ironhack            2019            4.70            4.79              211\n",
      "7   ironhack            2020            4.77            4.57              183\n",
      "8   ironhack            2021            4.58            4.34               83\n",
      "9   ironhack            2022            4.48            4.22              109\n",
      "10  ironhack            2023            4.25            3.98               44\n"
     ]
    }
   ],
   "source": [
    "# Convert the 'column_name' from float to int\n",
    "DataCurrJob['graduatingYear'] =DataCurrJob['graduatingYear'].astype(int)\n",
    "\n",
    "# Display the DataFrame\n",
    "print(DataCurrJob)"
   ]
  },
  {
   "cell_type": "code",
   "execution_count": 4,
   "metadata": {},
   "outputs": [],
   "source": [
    "# Drop the number of students column\n",
    "\n",
    "DataCurrJob_updated = DataCurrJob.drop(\"number_students\", axis=\"columns\")"
   ]
  },
  {
   "cell_type": "code",
   "execution_count": 5,
   "metadata": {},
   "outputs": [
    {
     "data": {
      "image/png": "[encoded data removed]",
      "text/plain": [
       "<Figure size 640x480 with 1 Axes>"
      ]
     },
     "metadata": {},
     "output_type": "display_data"
    }
   ],
   "source": [
    "import numpy as np\n",
    "import matplotlib.pyplot as plt\n",
    "\n",
    "DataCurrJob_updated.set_index('graduatingYear').plot();"
   ]
  },
  {
   "cell_type": "code",
   "execution_count": null,
   "metadata": {},
   "outputs": [],
   "source": []
  }
 ],
 "metadata": {
  "colab": {
   "provenance": []
  },
  "kernelspec": {
   "display_name": "Python 3 (ipykernel)",
   "language": "python",
   "name": "python3"
  },
  "language_info": {
   "codemirror_mode": {
    "name": "ipython",
    "version": 3
   },
   "file_extension": ".py",
   "mimetype": "text/x-python",
   "name": "python",
   "nbconvert_exporter": "python",
   "pygments_lexer": "ipython3",
   "version": "3.11.3"
  }
 },
 "nbformat": 4,
 "nbformat_minor": 1
}
